{
 "cells": [
  {
   "cell_type": "code",
   "execution_count": 23,
   "metadata": {
    "collapsed": true
   },
   "outputs": [],
   "source": [
    "import OSC\n",
    "import time, random\n",
    "\n",
    "client = OSC.OSCClient()\n",
    "client.connect( ( '127.0.0.1', 57120 ) )\n",
    "msg = OSC.OSCMessage()\n",
    "msg.setAddress(\"/sin\")\n",
    "msg.append(500)\n",
    "msg.append(0.1)\n",
    "client.send(msg)\n",
    "\n",
    "\n"
   ]
  },
  {
   "cell_type": "code",
   "execution_count": 24,
   "metadata": {
    "collapsed": true
   },
   "outputs": [],
   "source": [
    "from pymouse import PyMouse\n",
    "import time\n",
    "\n",
    "mouse = PyMouse()"
   ]
  },
  {
   "cell_type": "code",
   "execution_count": 40,
   "metadata": {
    "collapsed": false
   },
   "outputs": [],
   "source": [
    "for _ in range(200):\n",
    "    x, y = mouse.position()\n",
    "    msg[0] = x/1920.0 * 444\n",
    "    msg[1] = (1 - y/1080.0) * 2\n",
    "    client.send(msg)\n",
    "    time.sleep(0.1)"
   ]
  },
  {
   "cell_type": "code",
   "execution_count": 37,
   "metadata": {
    "collapsed": false
   },
   "outputs": [
    {
     "data": {
      "text/plain": [
       "1.0000000000000007"
      ]
     },
     "execution_count": 37,
     "metadata": {},
     "output_type": "execute_result"
    }
   ],
   "source": [
    "client.send(msg)\n",
    "v"
   ]
  },
  {
   "cell_type": "code",
   "execution_count": 39,
   "metadata": {
    "collapsed": false
   },
   "outputs": [],
   "source": [
    "v = 0\n",
    "for i in range(100):\n",
    "    # Aumenta em 0.1 a amplitude\n",
    "    v = v + 0.1\n",
    "    # Manda frequencia 1000Hz\n",
    "    msg[0] = 1000\n",
    "    # Manda a amplitude 'v'\n",
    "    msg[1] = v\n",
    "    # Envia a mensagem pro Supercollider\n",
    "    client.send(msg)\n",
    "    # Aguarda 0.1s\n",
    "    time.sleep(0.1)"
   ]
  },
  {
   "cell_type": "code",
   "execution_count": 12,
   "metadata": {
    "collapsed": false
   },
   "outputs": [
    {
     "ename": "KeyboardInterrupt",
     "evalue": "",
     "output_type": "error",
     "traceback": [
      "\u001b[1;31m---------------------------------------------------------------------------\u001b[0m",
      "\u001b[1;31mKeyboardInterrupt\u001b[0m                         Traceback (most recent call last)",
      "\u001b[1;32m<ipython-input-12-417b8b87057d>\u001b[0m in \u001b[0;36m<module>\u001b[1;34m()\u001b[0m\n\u001b[0;32m      2\u001b[0m \u001b[1;33m\u001b[0m\u001b[0m\n\u001b[0;32m      3\u001b[0m \u001b[1;32mfor\u001b[0m \u001b[0mi\u001b[0m \u001b[1;32min\u001b[0m \u001b[0mrange\u001b[0m\u001b[1;33m(\u001b[0m\u001b[1;36m100\u001b[0m\u001b[1;33m,\u001b[0m\u001b[1;36m10000\u001b[0m\u001b[1;33m)\u001b[0m\u001b[1;33m:\u001b[0m\u001b[1;33m\u001b[0m\u001b[0m\n\u001b[1;32m----> 4\u001b[1;33m     \u001b[0mtime\u001b[0m\u001b[1;33m.\u001b[0m\u001b[0msleep\u001b[0m\u001b[1;33m(\u001b[0m\u001b[1;36m0.1\u001b[0m\u001b[1;33m)\u001b[0m\u001b[1;33m\u001b[0m\u001b[0m\n\u001b[0m\u001b[0;32m      5\u001b[0m     \u001b[0mmsg\u001b[0m\u001b[1;33m[\u001b[0m\u001b[1;36m0\u001b[0m\u001b[1;33m]\u001b[0m \u001b[1;33m=\u001b[0m \u001b[1;36m5000\u001b[0m \u001b[1;33m+\u001b[0m \u001b[1;36m5000\u001b[0m\u001b[1;33m*\u001b[0m\u001b[0mmath\u001b[0m\u001b[1;33m.\u001b[0m\u001b[0msin\u001b[0m\u001b[1;33m(\u001b[0m\u001b[0mi\u001b[0m\u001b[1;33m*\u001b[0m\u001b[1;36m2\u001b[0m\u001b[1;33m*\u001b[0m\u001b[0mmath\u001b[0m\u001b[1;33m.\u001b[0m\u001b[0mpi\u001b[0m\u001b[1;33m/\u001b[0m\u001b[1;36m100\u001b[0m\u001b[1;33m)\u001b[0m\u001b[1;33m\u001b[0m\u001b[0m\n\u001b[0;32m      6\u001b[0m     \u001b[0mclient\u001b[0m\u001b[1;33m.\u001b[0m\u001b[0msend\u001b[0m\u001b[1;33m(\u001b[0m\u001b[0mmsg\u001b[0m\u001b[1;33m)\u001b[0m\u001b[1;33m\u001b[0m\u001b[0m\n",
      "\u001b[1;31mKeyboardInterrupt\u001b[0m: "
     ]
    }
   ],
   "source": [
    "\n",
    "for i in range(100,10000):\n",
    "    time.sleep(0.1)\n",
    "    msg[0] = 5000 + 5000*math.sin(i*2*math.pi/100)\n",
    "    client.send(msg)"
   ]
  },
  {
   "cell_type": "code",
   "execution_count": 26,
   "metadata": {
    "collapsed": false
   },
   "outputs": [
    {
     "ename": "ImportError",
     "evalue": "No module named ipywidgets",
     "output_type": "error",
     "traceback": [
      "\u001b[1;31m---------------------------------------------------------------------------\u001b[0m",
      "\u001b[1;31mImportError\u001b[0m                               Traceback (most recent call last)",
      "\u001b[1;32m<ipython-input-26-596b134e0fce>\u001b[0m in \u001b[0;36m<module>\u001b[1;34m()\u001b[0m\n\u001b[1;32m----> 1\u001b[1;33m \u001b[1;32mimport\u001b[0m \u001b[0mipywidgets\u001b[0m \u001b[1;32mas\u001b[0m \u001b[0mwidgets\u001b[0m\u001b[1;33m\u001b[0m\u001b[0m\n\u001b[0m",
      "\u001b[1;31mImportError\u001b[0m: No module named ipywidgets"
     ]
    }
   ],
   "source": [
    "import ipywidgets as widgets"
   ]
  },
  {
   "cell_type": "code",
   "execution_count": 29,
   "metadata": {
    "collapsed": false
   },
   "outputs": [
    {
     "name": "stdout",
     "output_type": "stream",
     "text": [
      "Downloading/unpacking ipywidgets\n",
      "  Real name of requirement ipywidgets is ipywidgets\n",
      "  Downloading ipywidgets-4.1.1-py2.py3-none-any.whl (117kB): 117kB downloaded\n",
      "Downloading/unpacking traitlets (from ipywidgets)\n",
      "  Downloading traitlets-4.0.0-py2.py3-none-any.whl (56kB): 56kB downloaded\n",
      "Downloading/unpacking ipykernel (from ipywidgets)\n",
      "  Downloading ipykernel-4.2.1-py2.py3-none-any.whl (90kB): 90kB downloaded\n",
      "Downloading/unpacking notebook (from ipywidgets)\n",
      "  Downloading notebook-4.0.6-py2.py3-none-any.whl (5.6MB): 1.3MB downloaded\n",
      "Cleaning up...\n",
      "\u001b[31mException:\n",
      "Traceback (most recent call last):\n",
      "  File \"/home/walrus/.virtualenvs/py/local/lib/python2.7/site-packages/pip/basecommand.py\", line 122, in main\n",
      "    status = self.run(options, args)\n",
      "  File \"/home/walrus/.virtualenvs/py/local/lib/python2.7/site-packages/pip/commands/install.py\", line 304, in run\n",
      "    requirement_set.prepare_files(finder, force_root_egg_info=self.bundle, bundle=self.bundle)\n",
      "  File \"/home/walrus/.virtualenvs/py/local/lib/python2.7/site-packages/pip/req.py\", line 1198, in prepare_files\n",
      "    do_download,\n",
      "  File \"/home/walrus/.virtualenvs/py/local/lib/python2.7/site-packages/pip/req.py\", line 1376, in unpack_url\n",
      "    self.session,\n",
      "  File \"/home/walrus/.virtualenvs/py/local/lib/python2.7/site-packages/pip/download.py\", line 572, in unpack_http_url\n",
      "    download_hash = _download_url(resp, link, temp_location)\n",
      "  File \"/home/walrus/.virtualenvs/py/local/lib/python2.7/site-packages/pip/download.py\", line 433, in _download_url\n",
      "    for chunk in resp_read(4096):\n",
      "  File \"/home/walrus/.virtualenvs/py/local/lib/python2.7/site-packages/pip/download.py\", line 421, in resp_read\n",
      "    chunk_size, decode_content=False):\n",
      "  File \"/home/walrus/.virtualenvs/py/lib/python-wheels/urllib3-1.9.1-py2.py3-none-any.whl/urllib3/response.py\", line 256, in stream\n",
      "    data = self.read(amt=amt, decode_content=decode_content)\n",
      "  File \"/home/walrus/.virtualenvs/py/lib/python-wheels/urllib3-1.9.1-py2.py3-none-any.whl/urllib3/response.py\", line 201, in read\n",
      "    raise ReadTimeoutError(self._pool, None, 'Read timed out.')\n",
      "ReadTimeoutError: HTTPSConnectionPool(host='pypi.python.org', port=443): Read timed out.\n",
      "\n",
      "\u001b[0m\u001b[31mStoring debug log for failure in /home/walrus/.pip/pip.log\n",
      "\u001b[0m"
     ]
    }
   ],
   "source": [
    "!pip install ipywidgets"
   ]
  },
  {
   "cell_type": "code",
   "execution_count": 69,
   "metadata": {
    "collapsed": true
   },
   "outputs": [],
   "source": [
    "msg[0] = 25000"
   ]
  },
  {
   "cell_type": "code",
   "execution_count": 77,
   "metadata": {
    "collapsed": false
   },
   "outputs": [],
   "source": [
    "msg[0] = 15\n",
    "msg += [12000]"
   ]
  },
  {
   "cell_type": "code",
   "execution_count": null,
   "metadata": {
    "collapsed": true
   },
   "outputs": [],
   "source": [
    "msg"
   ]
  }
 ],
 "metadata": {
  "kernelspec": {
   "display_name": "Python 2",
   "language": "python",
   "name": "python2"
  },
  "language_info": {
   "codemirror_mode": {
    "name": "ipython",
    "version": 2
   },
   "file_extension": ".py",
   "mimetype": "text/x-python",
   "name": "python",
   "nbconvert_exporter": "python",
   "pygments_lexer": "ipython2",
   "version": "2.7.9"
  }
 },
 "nbformat": 4,
 "nbformat_minor": 0
}
